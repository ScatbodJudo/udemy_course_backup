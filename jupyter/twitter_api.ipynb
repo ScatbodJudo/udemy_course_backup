{
 "cells": [
  {
   "cell_type": "code",
   "execution_count": 64,
   "metadata": {},
   "outputs": [],
   "source": [
    "import pandas\n",
    "from geopy.geocoders import Nominatim\n",
    "nom = Nominatim(scheme='http')\n",
    "\n",
    "\n",
    "try:\n",
    "    import json\n",
    "except ImportError:\n",
    "    import simplejson as json\n",
    "    \n",
    "from twitter import Twitter, OAuth, TwitterHTTPError, TwitterStream\n"
   ]
  },
  {
   "cell_type": "code",
   "execution_count": 65,
   "metadata": {
    "collapsed": true
   },
   "outputs": [],
   "source": [
    "ACCESS_TOKEN    = '3316260091-TxVTwgvv4MgMh1TuqCBhuWBt8taYKx9f3NTLeRL'\n",
    "ACCESS_SECRET   = '50nR14aSrB6ExkHnw1GbG7Tm1pcWGQx3BUj9oBGTFOsar'\n",
    "CONSUMER_KEY    = 'wr3jIsxpv2UvHHRGSuR9FWYF1'\n",
    "CONSUMER_SECRET = 'GLpGRXwxtvs5VlrJibxgMqSQr78Nbl6kIursecWFIRAgyiA8N2'\n",
    "\n",
    "oauth = OAuth(ACCESS_TOKEN, ACCESS_SECRET, CONSUMER_KEY, CONSUMER_SECRET)"
   ]
  },
  {
   "cell_type": "code",
   "execution_count": 66,
   "metadata": {},
   "outputs": [],
   "source": [
    "# Initiate the connection to Twitter Streaming API\n",
    "twitter_stream = TwitterStream(auth=oauth)\n",
    "# Get a sample of the public data following through Twitter\n",
    "#iterator = twitter_stream.statuses.sample()\n",
    "iterator = twitter_stream.statuses.filter(track=\"trump\",language='en')"
   ]
  },
  {
   "cell_type": "code",
   "execution_count": 67,
   "metadata": {},
   "outputs": [],
   "source": [
    "# Print each tweet in the stream to the screen \n",
    "# Here we set it to stop after getting 1000 tweets. \n",
    "# You don't have to set it to stop, but can continue running \n",
    "# the Twitter API to collect data for days or even longer.\n",
    "\n",
    "def getTweets(num):\n",
    "    tweet_count = num\n",
    "    for tweet in iterator:\n",
    "        tweet_count-=1\n",
    "        # Twitter Python Tool wraps the data returned by Twitter \n",
    "        # as a TwitterDictResponse object.\n",
    "        # We convert it back to the JSON format to print/score\n",
    "\n",
    "\n",
    "        # The command below will do pretty printing for JSON data, try it out\n",
    "        # print json.dumps(tweet, indent=4)\n",
    "        data = json.dumps(tweet)\n",
    "        \n",
    "        if tweet_count <= 0:\n",
    "            break\n",
    "    return data\n",
    "tweets = getTweets(100) \n",
    "\n",
    "tweets_filename = \"tweets.txt\"\n",
    "with open(tweets_filename, \"w+\") as file:\n",
    "    file.write(tweets)\n",
    "        "
   ]
  },
  {
   "cell_type": "code",
   "execution_count": 68,
   "metadata": {},
   "outputs": [
    {
     "name": "stdout",
     "output_type": "stream",
     "text": [
      "920290650871930881\n",
      "Tue Oct 17 14:09:23 +0000 2017\n",
      "RT @Newsweek: Donald Trump blames everyone but himself for failed campaign promises, in bizarre statement https://t.co/R7hkQtdfHp https://t…\n",
      "24678075\n",
      "LOLS@Trumpsters 🇨🇦\n",
      "SusanSaysHi\n",
      "Canada\n",
      "[]\n"
     ]
    }
   ],
   "source": [
    "#open text file containing json data for tweets gathered from previous opperation\n",
    "tweets_file = open(tweets_filename, 'r')\n",
    "#num = sum(1 for line in tweets_file)\n",
    "#print(\"number of lines= \"+ str(num))\n",
    "\n",
    "for line in tweets_file:\n",
    "    try:\n",
    "        #read in each line of text file and convert to json object\n",
    "        tweet = json.loads(line.strip())\n",
    "        if 'text' in tweet:\n",
    "            if 'location' in tweet['user']:\n",
    "                print(tweet['id'])\n",
    "                print(tweet['created_at'])\n",
    "                print(tweet['text'])\n",
    "\n",
    "                print(tweet['user']['id'])\n",
    "                print(tweet['user']['name'])\n",
    "                print(tweet['user']['screen_name'])\n",
    "                print(tweet['user']['location'])\n",
    "\n",
    "                hashtags = []\n",
    "                for hashtag in tweet['entities']['hashtags']:\n",
    "                    hashtags.append(\"#\")\n",
    "                    hashtags.append(hashtag['text'])\n",
    "                print(hashtags)\n",
    "            else:\n",
    "                print(\"there was no text or location in this tweet\")\n",
    "    except:\n",
    "        #sometimes I guess a line is not in json format\n",
    "        print(\"this line was not in json format?\")\n",
    "        continue"
   ]
  },
  {
   "cell_type": "code",
   "execution_count": 69,
   "metadata": {},
   "outputs": [
    {
     "data": {
      "text/html": [
       "<div>\n",
       "<style>\n",
       "    .dataframe thead tr:only-child th {\n",
       "        text-align: right;\n",
       "    }\n",
       "\n",
       "    .dataframe thead th {\n",
       "        text-align: left;\n",
       "    }\n",
       "\n",
       "    .dataframe tbody tr th {\n",
       "        vertical-align: top;\n",
       "    }\n",
       "</style>\n",
       "<table border=\"1\" class=\"dataframe\">\n",
       "  <thead>\n",
       "    <tr style=\"text-align: right;\">\n",
       "      <th></th>\n",
       "      <th>location</th>\n",
       "      <th>text</th>\n",
       "      <th>geo_location</th>\n",
       "      <th>lat</th>\n",
       "      <th>lon</th>\n",
       "    </tr>\n",
       "  </thead>\n",
       "  <tbody>\n",
       "    <tr>\n",
       "      <th>0</th>\n",
       "      <td>Canada</td>\n",
       "      <td>RT @Newsweek: Donald Trump blames everyone but...</td>\n",
       "      <td>(Canada, (61.0666922, -107.9917071))</td>\n",
       "      <td>61.066692</td>\n",
       "      <td>-107.991707</td>\n",
       "    </tr>\n",
       "  </tbody>\n",
       "</table>\n",
       "</div>"
      ],
      "text/plain": [
       "  location                                               text  \\\n",
       "0   Canada  RT @Newsweek: Donald Trump blames everyone but...   \n",
       "\n",
       "                           geo_location        lat         lon  \n",
       "0  (Canada, (61.0666922, -107.9917071))  61.066692 -107.991707  "
      ]
     },
     "execution_count": 69,
     "metadata": {},
     "output_type": "execute_result"
    }
   ],
   "source": [
    "#open tweets_file saved from api stream\n",
    "with open(tweets_filename,'r') as tweets_file:\n",
    "    #get data (location, text) into padas dataframe\n",
    "    granularity = {\n",
    "        \"location\":[],\n",
    "        \"text\":[]\n",
    "    }\n",
    "    #write data into dictionary defined above\n",
    "    for line in tweets_file:\n",
    "        tweet = json.loads(line.strip())\n",
    "        granularity[\"location\"].append(tweet['user']['location'])\n",
    "        granularity[\"text\"].append(tweet['text'])  \n",
    "#convert dictionary to pandas dataframe        \n",
    "df_granularity = pandas.DataFrame.from_dict(granularity)\n",
    "\n",
    "#add coordinates column to data frame, geocoded data of location from tweet\n",
    "df_granularity[\"geo_location\"] = df_granularity[\"location\"].apply(nom.geocode)\n",
    "\n",
    "#iterate through the geo_location column and return lat/lon if there is a lat/lon.\n",
    "df_granularity[\"lat\"] = df_granularity.geo_location.apply(lambda x: x.latitude if x != None else None)\n",
    "df_granularity[\"lon\"] = df_granularity.geo_location.apply(lambda x: x.longitude if x != None else None)\n",
    "\n",
    "df_granularity\n",
    "#write df to csv file."
   ]
  }
 ],
 "metadata": {
  "kernelspec": {
   "display_name": "Python 3",
   "language": "python",
   "name": "python3"
  },
  "language_info": {
   "codemirror_mode": {
    "name": "ipython",
    "version": 3
   },
   "file_extension": ".py",
   "mimetype": "text/x-python",
   "name": "python",
   "nbconvert_exporter": "python",
   "pygments_lexer": "ipython3",
   "version": "3.6.2"
  }
 },
 "nbformat": 4,
 "nbformat_minor": 2
}
