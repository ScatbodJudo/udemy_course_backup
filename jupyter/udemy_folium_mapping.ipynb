{
 "cells": [
  {
   "cell_type": "code",
   "execution_count": 1,
   "metadata": {
    "collapsed": true
   },
   "outputs": [],
   "source": [
    "import folium\n",
    "import pandas\n",
    "import statistics as stats\n",
    "import json"
   ]
  },
  {
   "cell_type": "code",
   "execution_count": null,
   "metadata": {
    "collapsed": true
   },
   "outputs": [],
   "source": []
  },
  {
   "cell_type": "code",
   "execution_count": 2,
   "metadata": {
    "collapsed": true
   },
   "outputs": [],
   "source": [
    "#creat data frame from values read from csv\n",
    "df_volcanoes = pandas.read_csv(\"Volcanoes_USA.txt\")\n",
    "\n",
    "\n",
    "#list unique values in the type column of volcanoes database\n",
    "df_volcanoes.TYPE.unique()\n",
    "#make a new column binning attributes into catagories based volcanoe type\n",
    "\n",
    "\n",
    "#iterate through volcanoes data frame and assign colors from dictionary based on common 'TYPE' attribute\n",
    "def colorProducer(kind):\n",
    "    type_colors = {\n",
    "    'Stratovolcanoes': \"#AA08B2\",\n",
    "    'Stratovolcano':   \"#FFDD13\",\n",
    "    'Volcanic field':  \"#FF2704\",\n",
    "    'Shield volcanoes':\"#0075CC\",\n",
    "    'Maar':            \"#00B226\",\n",
    "    'Cinder cones':\"    #B27F15\",\n",
    "    'Shield volcano':  \"#00FF88\",\n",
    "    'Complex volcano': \"#FFAD04\",\n",
    "    'Caldera':         \"#9518CC\",\n",
    "    'Calderas':        '#800CB2',\n",
    "    'Fissure vents':   \"#B24015\",\n",
    "    'Lava domes':      \"#63FF00\",\n",
    "    'Maars':           \"#FF4904\",\n",
    "    'Cinder cone':     \"#182DCC\"\n",
    "    \n",
    "    }\n",
    "    return type_colors[kind]\n",
    "    \n",
    "    \n",
    "df_volcanoes['colors']= \"green\"\n",
    "\n",
    "#df_volcanoes[\"colors\"].apply(for i in type_colors: df_volcanoes[\"colors\"]=type_color[i] if i==df_volcanoes[\"colors\"])\n",
    "#print list of column names and shape of table\n",
    "#print(list(df_volcanoes))\n",
    "#print(df_volcanoes.shape)"
   ]
  },
  {
   "cell_type": "code",
   "execution_count": 3,
   "metadata": {
    "collapsed": true
   },
   "outputs": [],
   "source": [
    "#convert columns to list objects\n",
    "lat = list(df_volcanoes[\"LAT\"])\n",
    "lon = list(df_volcanoes[\"LON\"])\n",
    "name = list(df_volcanoes[\"NAME\"])\n",
    "elev = list(df_volcanoes[\"ELEV\"])\n",
    "kind = list(df_volcanoes[\"TYPE\"])"
   ]
  },
  {
   "cell_type": "code",
   "execution_count": 4,
   "metadata": {
    "collapsed": true
   },
   "outputs": [],
   "source": [
    "#get mean center\n",
    "mean_lat = stats.mean(lat)\n",
    "mean_lon = stats.mean(lon)"
   ]
  },
  {
   "cell_type": "code",
   "execution_count": 5,
   "metadata": {
    "collapsed": true,
    "scrolled": true
   },
   "outputs": [],
   "source": [
    "#make folium feature group and map object\n",
    "volcanoes = folium.FeatureGroup()\n",
    "\n",
    "countries = folium.FeatureGroup()\n",
    "\n",
    "\n",
    "m = folium.Map(location = [mean_lat,mean_lon],zoom_start=2)"
   ]
  },
  {
   "cell_type": "code",
   "execution_count": 6,
   "metadata": {},
   "outputs": [
    {
     "name": "stderr",
     "output_type": "stream",
     "text": [
      "IOPub data rate exceeded.\n",
      "The notebook server will temporarily stop sending output\n",
      "to the client in order to avoid crashing it.\n",
      "To change this limit, set the config variable\n",
      "`--NotebookApp.iopub_data_rate_limit`.\n"
     ]
    }
   ],
   "source": [
    "#import data into feature group\n",
    "\n",
    "#why is this breaking my map???  Make sure the check the parenthases!!!  I know, there's a lot of them.\n",
    "countries.add_child(folium.GeoJson(data=(open(\"world.json\",\"r\", encoding = \"utf-8-sig\").read())))\n",
    "\n",
    "                    \n",
    "for lat,lon,name,elev,kind in zip(lat,lon,name,elev,kind):\n",
    "    volcanoes.add_child(folium.CircleMarker(\n",
    "        radius = 5,\n",
    "        location = [lat,lon],\n",
    "        #the extra bit for the popup eliminates the blank page error due to quotation marks in the string input\n",
    "        popup = folium.Popup(name+\": \"+str(elev)+\"m, \"+kind,parse_html=True),\n",
    "        color=colorProducer(kind),\n",
    "        fill_color = colorProducer(kind),\n",
    "        opacity = 0.7,\n",
    "        fill = True\n",
    "        ))\n",
    "\n",
    "#add features to map object\n",
    "m.add_child(volcanoes)\n",
    "m.add_child(countries)\n",
    "\n",
    "#display map\n",
    "m.save(\"volcanoes.html\")\n",
    "m"
   ]
  }
 ],
 "metadata": {
  "kernelspec": {
   "display_name": "Python 3",
   "language": "python",
   "name": "python3"
  },
  "language_info": {
   "codemirror_mode": {
    "name": "ipython",
    "version": 3
   },
   "file_extension": ".py",
   "mimetype": "text/x-python",
   "name": "python",
   "nbconvert_exporter": "python",
   "pygments_lexer": "ipython3",
   "version": "3.6.2"
  }
 },
 "nbformat": 4,
 "nbformat_minor": 2
}
